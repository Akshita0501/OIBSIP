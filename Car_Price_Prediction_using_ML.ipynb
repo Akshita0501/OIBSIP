{
  "nbformat": 4,
  "nbformat_minor": 0,
  "metadata": {
    "colab": {
      "provenance": [],
      "authorship_tag": "ABX9TyOScW5pDxsaC4dKpeV2yHNz",
      "include_colab_link": true
    },
    "kernelspec": {
      "name": "python3",
      "display_name": "Python 3"
    },
    "language_info": {
      "name": "python"
    }
  },
  "cells": [
    {
      "cell_type": "markdown",
      "metadata": {
        "id": "view-in-github",
        "colab_type": "text"
      },
      "source": [
        "<a href=\"https://colab.research.google.com/github/Akshita0501/OIBSIP/blob/main/Car_Price_Prediction_using_ML.ipynb\" target=\"_parent\"><img src=\"https://colab.research.google.com/assets/colab-badge.svg\" alt=\"Open In Colab\"/></a>"
      ]
    },
    {
      "cell_type": "code",
      "execution_count": null,
      "metadata": {
        "colab": {
          "base_uri": "https://localhost:8080/"
        },
        "id": "HS8NcBiqBxbF",
        "outputId": "5fe130ff-cf34-4c68-809d-d875fec95d79"
      },
      "outputs": [
        {
          "output_type": "stream",
          "name": "stdout",
          "text": [
            "Mounted at /content/drive\n"
          ]
        }
      ],
      "source": [
        "from google.colab import drive\n",
        "\n",
        "# Mount Google Drive\n",
        "drive.mount('/content/drive')\n"
      ]
    },
    {
      "cell_type": "code",
      "source": [
        "import zipfile\n",
        "import os\n",
        "\n",
        "# Path to the zip file in Google Drive\n",
        "zip_path = '/content/drive/MyDrive/car_price.zip'\n",
        "\n",
        "# Directory to extract the files\n",
        "extracted_path = '/content/car_price_dataset'\n",
        "\n",
        "# Create the directory if it doesn't exist\n",
        "os.makedirs(extracted_path, exist_ok=True)\n",
        "\n",
        "# Extract the contents of the zip file\n",
        "with zipfile.ZipFile(zip_path, 'r') as zip_ref:\n",
        "    zip_ref.extractall(extracted_path)\n"
      ],
      "metadata": {
        "id": "6aC11djnCZiH"
      },
      "execution_count": null,
      "outputs": []
    },
    {
      "cell_type": "code",
      "source": [
        "import pandas as pd\n",
        "\n",
        "# Load the dataset\n",
        "car_data_path = os.path.join(extracted_path, 'car data.csv')\n",
        "car_df = pd.read_csv(car_data_path)\n",
        "\n",
        "# Display the first few rows of the dataset\n",
        "print(car_df.head())\n"
      ],
      "metadata": {
        "colab": {
          "base_uri": "https://localhost:8080/"
        },
        "id": "se7unTLPCk3W",
        "outputId": "ea94f0f6-75aa-4721-8b49-9306a05971c8"
      },
      "execution_count": null,
      "outputs": [
        {
          "output_type": "stream",
          "name": "stdout",
          "text": [
            "  Car_Name  Year  Selling_Price  Present_Price  Driven_kms Fuel_Type  \\\n",
            "0     ritz  2014           3.35           5.59       27000    Petrol   \n",
            "1      sx4  2013           4.75           9.54       43000    Diesel   \n",
            "2     ciaz  2017           7.25           9.85        6900    Petrol   \n",
            "3  wagon r  2011           2.85           4.15        5200    Petrol   \n",
            "4    swift  2014           4.60           6.87       42450    Diesel   \n",
            "\n",
            "  Selling_type Transmission  Owner  \n",
            "0       Dealer       Manual      0  \n",
            "1       Dealer       Manual      0  \n",
            "2       Dealer       Manual      0  \n",
            "3       Dealer       Manual      0  \n",
            "4       Dealer       Manual      0  \n"
          ]
        }
      ]
    },
    {
      "cell_type": "code",
      "source": [
        "# Display the columns of the dataset\n",
        "print(car_df.columns)\n"
      ],
      "metadata": {
        "colab": {
          "base_uri": "https://localhost:8080/"
        },
        "id": "46Ecn6MjDWRj",
        "outputId": "37ba01f9-cb07-4b49-8755-97442e3ed106"
      },
      "execution_count": null,
      "outputs": [
        {
          "output_type": "stream",
          "name": "stdout",
          "text": [
            "Index(['Car_Name', 'Year', 'Selling_Price', 'Present_Price', 'Driven_kms',\n",
            "       'Fuel_Type', 'Selling_type', 'Transmission', 'Owner'],\n",
            "      dtype='object')\n"
          ]
        }
      ]
    },
    {
      "cell_type": "markdown",
      "source": [
        "Training a car price prediction model:"
      ],
      "metadata": {
        "id": "CanueHtMCsm6"
      }
    },
    {
      "cell_type": "code",
      "source": [
        "# Import necessary libraries\n",
        "import pandas as pd\n",
        "from sklearn.model_selection import train_test_split\n",
        "from sklearn.linear_model import LinearRegression\n",
        "from sklearn.metrics import mean_squared_error\n",
        "from sklearn.preprocessing import LabelEncoder\n",
        "\n",
        "# Convert categorical variables to numerical using Label Encoding\n",
        "label_encoder = LabelEncoder()\n",
        "car_df['Fuel_Type'] = label_encoder.fit_transform(car_df['Fuel_Type'])\n",
        "car_df['Selling_type'] = label_encoder.fit_transform(car_df['Selling_type'])\n",
        "car_df['Transmission'] = label_encoder.fit_transform(car_df['Transmission'])\n",
        "\n",
        "# Display the updated dataset\n",
        "print(car_df.head())\n",
        "\n",
        "\n"
      ],
      "metadata": {
        "colab": {
          "base_uri": "https://localhost:8080/"
        },
        "id": "tXYMxGFBCnbA",
        "outputId": "016affa4-ed9f-4473-a0fa-b94d958b3a08"
      },
      "execution_count": null,
      "outputs": [
        {
          "output_type": "stream",
          "name": "stdout",
          "text": [
            "  Car_Name  Year  Selling_Price  Present_Price  Driven_kms  Fuel_Type  \\\n",
            "0     ritz  2014           3.35           5.59       27000          2   \n",
            "1      sx4  2013           4.75           9.54       43000          1   \n",
            "2     ciaz  2017           7.25           9.85        6900          2   \n",
            "3  wagon r  2011           2.85           4.15        5200          2   \n",
            "4    swift  2014           4.60           6.87       42450          1   \n",
            "\n",
            "   Selling_type  Transmission  Owner  \n",
            "0             0             1      0  \n",
            "1             0             1      0  \n",
            "2             0             1      0  \n",
            "3             0             1      0  \n",
            "4             0             1      0  \n"
          ]
        }
      ]
    },
    {
      "cell_type": "code",
      "source": [
        "# Split the data into features (X) and target variable (y)\n",
        "X = car_df.drop('Selling_Price', axis=1)\n",
        "y = car_df['Selling_Price']\n"
      ],
      "metadata": {
        "id": "Gguq6omsDLmA"
      },
      "execution_count": null,
      "outputs": []
    },
    {
      "cell_type": "code",
      "source": [
        "\n",
        "# Split the data into training and testing sets\n",
        "X_train, X_test, y_train, y_test = train_test_split(X, y, test_size=0.2, random_state=42)\n"
      ],
      "metadata": {
        "id": "xYWns9-NDszU"
      },
      "execution_count": null,
      "outputs": []
    },
    {
      "cell_type": "code",
      "source": [
        "\n",
        "\n",
        "# Make predictions on the test set\n",
        "y_pred = model.predict(X_test_numeric)\n",
        "\n",
        "# Evaluate the model\n",
        "mse = mean_squared_error(y_test, y_pred)\n",
        "print(f'Mean Squared Error: {mse}')"
      ],
      "metadata": {
        "id": "koniUq_8Do3N"
      },
      "execution_count": null,
      "outputs": []
    },
    {
      "cell_type": "code",
      "source": [
        "# Display the columns in X_train\n",
        "print(X_train.columns)\n"
      ],
      "metadata": {
        "colab": {
          "base_uri": "https://localhost:8080/"
        },
        "id": "QmMzhaCVD_6k",
        "outputId": "d3e2dd38-bfd8-4853-b35b-c2202ad8532f"
      },
      "execution_count": null,
      "outputs": [
        {
          "output_type": "stream",
          "name": "stdout",
          "text": [
            "Index(['Year', 'Present_Price', 'Driven_kms', 'Fuel_Type', 'Selling_type',\n",
            "       'Transmission', 'Owner'],\n",
            "      dtype='object')\n"
          ]
        }
      ]
    },
    {
      "cell_type": "code",
      "source": [
        "# One-hot encode remaining categorical variables\n",
        "X_train_encoded = pd.get_dummies(X_train, columns=['Fuel_Type', 'Selling_type', 'Transmission'], drop_first=True)\n",
        "\n",
        "# Align columns in X_train_encoded and X_test_encoded\n",
        "X_train_encoded, X_test_encoded = X_train_encoded.align(X_test_encoded, join='outer', axis=1, fill_value=0)\n",
        "\n",
        "# Verify the updated datasets\n",
        "print(X_train_encoded.head())\n",
        "print(X_test_encoded.head())\n",
        "\n",
        "# Now, train the linear regression model\n",
        "model = LinearRegression()\n",
        "model.fit(X_train_encoded, y_train)\n",
        "\n",
        "# Make predictions on the test set\n",
        "y_pred = model.predict(X_test_encoded)\n",
        "\n",
        "# Evaluate the model\n",
        "mse = mean_squared_error(y_test, y_pred)\n",
        "print(f'Mean Squared Error: {mse}')\n"
      ],
      "metadata": {
        "colab": {
          "base_uri": "https://localhost:8080/"
        },
        "id": "pU27lbZJEHEk",
        "outputId": "3db76ff8-c772-4538-cabc-29fe3278856a"
      },
      "execution_count": null,
      "outputs": [
        {
          "output_type": "stream",
          "name": "stdout",
          "text": [
            "     Driven_kms  Fuel_Type_1  Fuel_Type_2  Owner  Present_Price  \\\n",
            "184       26000            0            1      1          0.750   \n",
            "132        3500            0            1      0          0.950   \n",
            "194       50000            0            1      0          0.787   \n",
            "75        36000            0            1      0          6.800   \n",
            "111        8700            0            1      0          1.500   \n",
            "\n",
            "     Selling_type_1  Transmission_1  Year  \n",
            "184               1               1  2008  \n",
            "132               1               1  2017  \n",
            "194               1               1  2008  \n",
            "75                0               1  2015  \n",
            "111               1               1  2016  \n",
            "     Driven_kms  Fuel_Type_1  Fuel_Type_2  Owner  Present_Price  \\\n",
            "177       24000            0            1      0           0.57   \n",
            "289       10980            0            1      0          13.60   \n",
            "228       60000            0            0      0           9.40   \n",
            "198       35000            0            1      1           0.57   \n",
            "60        40001            0            1      0          18.61   \n",
            "\n",
            "     Selling_type_1  Transmission_1  Year  \n",
            "177               1               0  2016  \n",
            "289               0               1  2016  \n",
            "228               0               1  2012  \n",
            "198               1               1  2011  \n",
            "60                0               1  2013  \n",
            "Mean Squared Error: 5.119615027427867\n"
          ]
        }
      ]
    },
    {
      "cell_type": "code",
      "source": [
        "import matplotlib.pyplot as plt\n",
        "\n",
        "# Create a scatter plot of actual vs. predicted selling prices\n",
        "plt.figure(figsize=(10, 6))\n",
        "plt.scatter(y_test, y_pred, alpha=0.5)\n",
        "plt.title('Actual vs. Predicted Selling Prices')\n",
        "plt.xlabel('Actual Selling Prices')\n",
        "plt.ylabel('Predicted Selling Prices')\n",
        "plt.show()\n"
      ],
      "metadata": {
        "colab": {
          "base_uri": "https://localhost:8080/",
          "height": 564
        },
        "id": "LC7L4IliEQz_",
        "outputId": "b1fba6cd-33c5-45b4-ceb4-da0774a5b30e"
      },
      "execution_count": null,
      "outputs": [
        {
          "output_type": "display_data",
          "data": {
            "text/plain": [
              "<Figure size 1000x600 with 1 Axes>"
            ],
            "image/png": "[encoded data removed]"
          },
          "metadata": {}
        }
      ]
    },
    {
      "cell_type": "code",
      "source": [
        "import seaborn as sns\n",
        "\n",
        "# Calculate residuals\n",
        "residuals = y_test - y_pred\n",
        "\n",
        "# Create a residual plot\n",
        "plt.figure(figsize=(10, 6))\n",
        "sns.scatterplot(x=y_pred, y=residuals, alpha=0.5)\n",
        "plt.axhline(y=0, color='r', linestyle='--', linewidth=2)  # Add a horizontal line at y=0\n",
        "plt.title('Residual Plot')\n",
        "plt.xlabel('Predicted Selling Prices')\n",
        "plt.ylabel('Residuals (Actual - Predicted)')\n",
        "plt.show()\n"
      ],
      "metadata": {
        "colab": {
          "base_uri": "https://localhost:8080/",
          "height": 564
        },
        "id": "Eg3epO5vEi3t",
        "outputId": "aa25b9be-c1d5-4f2d-e528-2c807649ef85"
      },
      "execution_count": null,
      "outputs": [
        {
          "output_type": "display_data",
          "data": {
            "text/plain": [
              "<Figure size 1000x600 with 1 Axes>"
            ],
            "image/png": "[encoded data removed]"
          },
          "metadata": {}
        }
      ]
    },
    {
      "cell_type": "code",
      "source": [
        "def predict_car_price(model, input_data):\n",
        "    input_df = pd.DataFrame([input_data])\n",
        "\n",
        "    # One-hot encode categorical variables\n",
        "    input_df_encoded = pd.get_dummies(input_df, columns=['Fuel_Type', 'Selling_type', 'Transmission'], drop_first=True)\n",
        "\n",
        "    # Ensure the input data has the same columns as the model was trained on\n",
        "    input_df_encoded, _ = X_train_encoded.align(input_df_encoded, join='outer', axis=1, fill_value=0)\n",
        "\n",
        "    # Make predictions\n",
        "    predicted_price = model.predict(input_df_encoded)\n",
        "\n",
        "    return predicted_price[0]\n",
        "\n",
        "# Example usage:\n",
        "input_data = {\n",
        "    'Year': 2016,\n",
        "    'Present_Price': 8.5,\n",
        "    'Driven_kms': 30000,\n",
        "    'Fuel_Type': 'Petrol',\n",
        "    'Selling_type': 'Dealer',\n",
        "    'Transmission': 'Automatic',\n",
        "    'Owner': 1\n",
        "}\n",
        "\n",
        "predicted_price = predict_car_price(model, input_data)\n",
        "print(f'Predicted Selling Price: {predicted_price:.2f} lakhs')\n"
      ],
      "metadata": {
        "colab": {
          "base_uri": "https://localhost:8080/"
        },
        "id": "-Y236Pl_Er8x",
        "outputId": "7b05832b-0089-49a1-eeed-c0252bd56bd2"
      },
      "execution_count": null,
      "outputs": [
        {
          "output_type": "stream",
          "name": "stdout",
          "text": [
            "Predicted Selling Price: -2.35 lakhs\n"
          ]
        }
      ]
    },
    {
      "cell_type": "code",
      "source": [],
      "metadata": {
        "id": "eN6K-f8KFXCi"
      },
      "execution_count": null,
      "outputs": []
    }
  ]
}